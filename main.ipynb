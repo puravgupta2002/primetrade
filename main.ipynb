{
 "cells": [
  {
   "cell_type": "markdown",
   "id": "645addc2",
   "metadata": {},
   "source": [
    "DATA PREPARATION\n"
   ]
  },
  {
   "cell_type": "code",
   "execution_count": null,
   "id": "850a7e8b",
   "metadata": {},
   "outputs": [],
   "source": [
    "#importing libraries"
   ]
  },
  {
   "cell_type": "code",
   "execution_count": null,
   "id": "b6175328",
   "metadata": {},
   "outputs": [],
   "source": [
    "#loading the data"
   ]
  },
  {
   "cell_type": "code",
   "execution_count": null,
   "id": "e662114b",
   "metadata": {},
   "outputs": [],
   "source": [
    "#handling the missing values\n"
   ]
  },
  {
   "cell_type": "code",
   "execution_count": null,
   "id": "27073951",
   "metadata": {},
   "outputs": [],
   "source": [
    "#Tokenization, stopword removal, lemmatization"
   ]
  },
  {
   "cell_type": "code",
   "execution_count": 11,
   "id": "b3f581de",
   "metadata": {},
   "outputs": [],
   "source": [
    "# Text normalization (lowercase, removing special characters)"
   ]
  },
  {
   "cell_type": "markdown",
   "id": "79e64954",
   "metadata": {},
   "source": [
    "FEATURE ENGINEERING\n"
   ]
  },
  {
   "cell_type": "code",
   "execution_count": null,
   "id": "70ef9b35",
   "metadata": {},
   "outputs": [],
   "source": [
    "# extracting meaningful features using (Bag-of-Words, TF-IDF)"
   ]
  },
  {
   "cell_type": "code",
   "execution_count": null,
   "id": "cf85d6f1",
   "metadata": {},
   "outputs": [],
   "source": [
    "# Extract additional features such as ticket length, sentiment score, etc."
   ]
  },
  {
   "cell_type": "markdown",
   "id": "9de5e10b",
   "metadata": {},
   "source": [
    "MULTI-TASKING LEARNING\n",
    "\n"
   ]
  },
  {
   "cell_type": "code",
   "execution_count": 15,
   "id": "263b504f",
   "metadata": {},
   "outputs": [],
   "source": [
    "# creating model to Predict the ticket's issue_type (multi-class classification)"
   ]
  },
  {
   "cell_type": "code",
   "execution_count": 16,
   "id": "18781e88",
   "metadata": {},
   "outputs": [],
   "source": [
    "# creating model to  Predict the urgency_level (multi-class classification)"
   ]
  },
  {
   "cell_type": "markdown",
   "id": "8c0097c0",
   "metadata": {},
   "source": [
    "ENTITY EXTRACTION"
   ]
  },
  {
   "cell_type": "code",
   "execution_count": 17,
   "id": "31c8ca74",
   "metadata": {},
   "outputs": [],
   "source": [
    "# extract the keywords entities from the ticket_text (products_name, dates, complaint_keywords(like :broken,late,error))"
   ]
  },
  {
   "cell_type": "code",
   "execution_count": 18,
   "id": "d739efba",
   "metadata": {},
   "outputs": [],
   "source": [
    "#return the extracted entities into the dictionary"
   ]
  },
  {
   "cell_type": "markdown",
   "id": "845d5781",
   "metadata": {},
   "source": [
    "INTEGRATION"
   ]
  },
  {
   "cell_type": "code",
   "execution_count": null,
   "id": "b2062978",
   "metadata": {},
   "outputs": [],
   "source": [
    "# Write a function that takes raw ticket_text as input and returns Predicted issue_type "
   ]
  },
  {
   "cell_type": "code",
   "execution_count": null,
   "id": "b585ceb7",
   "metadata": {},
   "outputs": [],
   "source": [
    "# Write a function that takes raw ticket_text as input and returns Predicted urgency_level"
   ]
  },
  {
   "cell_type": "code",
   "execution_count": null,
   "id": "98d6d412",
   "metadata": {},
   "outputs": [],
   "source": [
    "# Write a function that takes raw ticket_text as input and returns Extracted entities (as a JSON/dictionary)"
   ]
  },
  {
   "cell_type": "markdown",
   "id": "3b72c3d9",
   "metadata": {},
   "source": [
    "INTERFACE"
   ]
  },
  {
   "cell_type": "code",
   "execution_count": null,
   "id": "f4944ee2",
   "metadata": {},
   "outputs": [],
   "source": [
    "# Build an interactive Gradio web app where users can:\n",
    "# Input raw ticket text\n",
    "# See the predicted issue type, urgency, and extracted entities as output"
   ]
  }
 ],
 "metadata": {
  "kernelspec": {
   "display_name": "dce",
   "language": "python",
   "name": "python3"
  },
  "language_info": {
   "codemirror_mode": {
    "name": "ipython",
    "version": 3
   },
   "file_extension": ".py",
   "mimetype": "text/x-python",
   "name": "python",
   "nbconvert_exporter": "python",
   "pygments_lexer": "ipython3",
   "version": "3.10.16"
  }
 },
 "nbformat": 4,
 "nbformat_minor": 5
}
